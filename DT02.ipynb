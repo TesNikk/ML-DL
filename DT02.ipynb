{
  "nbformat": 4,
  "nbformat_minor": 0,
  "metadata": {
    "colab": {
      "provenance": [],
      "authorship_tag": "ABX9TyOyX3+W9Xm2ooLDWwjGx23e",
      "include_colab_link": true
    },
    "kernelspec": {
      "name": "python3",
      "display_name": "Python 3"
    },
    "language_info": {
      "name": "python"
    }
  },
  "cells": [
    {
      "cell_type": "markdown",
      "metadata": {
        "id": "view-in-github",
        "colab_type": "text"
      },
      "source": [
        "<a href=\"https://colab.research.google.com/github/TesNikk/ML-DL/blob/main/DT02.ipynb\" target=\"_parent\"><img src=\"https://colab.research.google.com/assets/colab-badge.svg\" alt=\"Open In Colab\"/></a>"
      ]
    },
    {
      "cell_type": "code",
      "execution_count": null,
      "metadata": {
        "colab": {
          "base_uri": "https://localhost:8080/"
        },
        "id": "7Hzv24ud-CmB",
        "outputId": "2115cd49-898a-4a16-f15c-6021d0aff830"
      },
      "outputs": [
        {
          "output_type": "stream",
          "name": "stderr",
          "text": [
            "<ipython-input-3-5e817ac8c681>:10: UserWarning: Pandas doesn't allow columns to be created via a new attribute name - see https://pandas.pydata.org/pandas-docs/stable/indexing.html#attribute-access\n",
            "  data.features = data[[\"SepalLength\",\"SepalWidth\",\"PetalLength\",\"PetalWidth\"]]\n",
            "<ipython-input-3-5e817ac8c681>:11: UserWarning: Pandas doesn't allow columns to be created via a new attribute name - see https://pandas.pydata.org/pandas-docs/stable/indexing.html#attribute-access\n",
            "  data.targets = data.Class\n"
          ]
        },
        {
          "output_type": "stream",
          "name": "stdout",
          "text": [
            "Best parameter with Grid Search:  {'max_depth': 4}\n"
          ]
        }
      ],
      "source": [
        "import pandas as pd\n",
        "import numpy as np\n",
        "from sklearn.tree import DecisionTreeClassifier\n",
        "from sklearn.model_selection import train_test_split\n",
        "from sklearn.model_selection import GridSearchCV\n",
        "\n",
        "data = pd.read_csv(\"iris_data.csv\")\n",
        "\n",
        "#print(irisData.head)\n",
        "data.features = data[[\"SepalLength\",\"SepalWidth\",\"PetalLength\",\"PetalWidth\"]]\n",
        "data.targets = data.Class\n",
        "\n",
        "#with grid search you can find an optimal parameter \"parameter tuning\"\n",
        "param_grid = {'max_depth': np.arange(1, 10)}\n",
        "\n",
        "#in every iteration data is splitted randomly in cross validation + DecisionTreeClassifier\n",
        "#initializes the tree randomly: thats why you get different results !!!\n",
        "tree = GridSearchCV(DecisionTreeClassifier(), param_grid)\n",
        "\n",
        "feature_train, feature_test, target_train, target_test = train_test_split(data.features, data.targets, test_size=.2)\n",
        "\n",
        "tree.fit(feature_train, target_train)\n",
        "tree_predictions = tree.predict_proba(feature_test)[:, 1]\n",
        "\n",
        "print(\"Best parameter with Grid Search: \", tree.best_params_)\n",
        "\n"
      ]
    }
  ]
}