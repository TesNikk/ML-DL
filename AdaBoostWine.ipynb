{
  "nbformat": 4,
  "nbformat_minor": 0,
  "metadata": {
    "colab": {
      "provenance": [],
      "authorship_tag": "ABX9TyMiFgDexh+8hfyNTtRGWhB5",
      "include_colab_link": true
    },
    "kernelspec": {
      "name": "python3",
      "display_name": "Python 3"
    },
    "language_info": {
      "name": "python"
    }
  },
  "cells": [
    {
      "cell_type": "markdown",
      "metadata": {
        "id": "view-in-github",
        "colab_type": "text"
      },
      "source": [
        "<a href=\"https://colab.research.google.com/github/TesNikk/ML-DL/blob/main/AdaBoostWine.ipynb\" target=\"_parent\"><img src=\"https://colab.research.google.com/assets/colab-badge.svg\" alt=\"Open In Colab\"/></a>"
      ]
    },
    {
      "cell_type": "code",
      "execution_count": null,
      "metadata": {
        "colab": {
          "base_uri": "https://localhost:8080/"
        },
        "id": "f01KCwhhufqZ",
        "outputId": "167d9fce-bf2f-46ac-fe8a-afe46edc6126"
      },
      "outputs": [
        {
          "output_type": "stream",
          "name": "stdout",
          "text": [
            "[[708  53]\n",
            " [150  69]]\n",
            "0.7928571428571428\n"
          ]
        }
      ],
      "source": [
        "import pandas as pd\n",
        "from sklearn.ensemble import AdaBoostClassifier\n",
        "from sklearn.model_selection import GridSearchCV\n",
        "from sklearn.model_selection import train_test_split\n",
        "from sklearn.metrics import confusion_matrix\n",
        "from sklearn.metrics import accuracy_score\n",
        "\n",
        "def isTasty(quality):\n",
        "    if quality >= 7:\n",
        "        return 1\n",
        "    else:\n",
        "        return 0\n",
        "\n",
        "data = pd.read_csv(\"wine.csv\", sep=\";\")\n",
        "\n",
        "#print(data['quality'].describe())\n",
        "#print(data['quality'].value_counts())\n",
        "\n",
        "features = data[[\"fixed acidity\", \"volatile acidity\", \"citric acid\", \"residual sugar\",\"chlorides\", \"free sulfur dioxide\", \"total sulfur dioxide\", \"density\", \"pH\", \"sulphates\", \"alcohol\"]]\n",
        "data['tasty'] = data[\"quality\"].apply(isTasty)\n",
        "targets = data['tasty']\n",
        "\n",
        "feature_train, feature_test, target_train, target_test = train_test_split(features, targets, test_size=.2)\n",
        "\n",
        "param_dist = {\n",
        " 'n_estimators': [50,100,200],\n",
        " 'learning_rate' : [0.01,0.05,0.1,0.3,1],\n",
        "}\n",
        "\n",
        "grid_search = GridSearchCV(estimator=AdaBoostClassifier(), param_grid=param_dist, cv=10)\n",
        "grid_search.fit(feature_train, target_train)\n",
        "\n",
        "preds = grid_search.predict(feature_test)\n",
        "\n",
        "print(confusion_matrix(target_test, preds))\n",
        "print(accuracy_score(target_test, preds))"
      ]
    }
  ]
}