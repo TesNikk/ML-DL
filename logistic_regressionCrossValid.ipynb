{
  "nbformat": 4,
  "nbformat_minor": 0,
  "metadata": {
    "colab": {
      "provenance": [],
      "authorship_tag": "ABX9TyPRgEf3NsuWFDddaHyvbE9y",
      "include_colab_link": true
    },
    "kernelspec": {
      "name": "python3",
      "display_name": "Python 3"
    },
    "language_info": {
      "name": "python"
    }
  },
  "cells": [
    {
      "cell_type": "markdown",
      "metadata": {
        "id": "view-in-github",
        "colab_type": "text"
      },
      "source": [
        "<a href=\"https://colab.research.google.com/github/TesNikk/ML-DL/blob/main/logistic_regressionCrossValid.ipynb\" target=\"_parent\"><img src=\"https://colab.research.google.com/assets/colab-badge.svg\" alt=\"Open In Colab\"/></a>"
      ]
    },
    {
      "cell_type": "code",
      "execution_count": null,
      "metadata": {
        "colab": {
          "base_uri": "https://localhost:8080/"
        },
        "id": "9IGERO8JCoOn",
        "outputId": "dbeded88-e9a4-4f56-efb7-38d15ac70570"
      },
      "outputs": [
        {
          "output_type": "stream",
          "name": "stdout",
          "text": [
            "0.9475\n"
          ]
        }
      ],
      "source": [
        "import pandas as pd\n",
        "from sklearn.linear_model import LogisticRegression\n",
        "from sklearn.model_selection import cross_val_predict\n",
        "from sklearn.metrics import accuracy_score\n",
        "\n",
        "creditData = pd.read_csv(\"credit_data.csv\")\n",
        "\n",
        "features = creditData[[\"income\",\"age\",\"loan\"]]\n",
        "target = creditData.default\n",
        "\n",
        "model = LogisticRegression()\n",
        "predicted = cross_val_predict(model,features,target, cv=10)\n",
        "\n",
        "print(accuracy_score(target,predicted))"
      ]
    }
  ]
}