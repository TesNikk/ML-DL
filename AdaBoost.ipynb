{
  "nbformat": 4,
  "nbformat_minor": 0,
  "metadata": {
    "colab": {
      "provenance": [],
      "authorship_tag": "ABX9TyOEu/831XWlKr5vCxixQY0G",
      "include_colab_link": true
    },
    "kernelspec": {
      "name": "python3",
      "display_name": "Python 3"
    },
    "language_info": {
      "name": "python"
    }
  },
  "cells": [
    {
      "cell_type": "markdown",
      "metadata": {
        "id": "view-in-github",
        "colab_type": "text"
      },
      "source": [
        "<a href=\"https://colab.research.google.com/github/TesNikk/ML-DL/blob/main/AdaBoost.ipynb\" target=\"_parent\"><img src=\"https://colab.research.google.com/assets/colab-badge.svg\" alt=\"Open In Colab\"/></a>"
      ]
    },
    {
      "cell_type": "code",
      "execution_count": null,
      "metadata": {
        "colab": {
          "base_uri": "https://localhost:8080/"
        },
        "id": "rop1Yry-tBtm",
        "outputId": "2c24705e-c6f3-4c58-fd48-f790f2303d91"
      },
      "outputs": [
        {
          "output_type": "stream",
          "name": "stderr",
          "text": [
            "<ipython-input-4-f46f0bb7f83b>:10: UserWarning: Pandas doesn't allow columns to be created via a new attribute name - see https://pandas.pydata.org/pandas-docs/stable/indexing.html#attribute-access\n",
            "  data.features = data[[\"SepalLength\",\"SepalWidth\",\"PetalLength\",\"PetalWidth\"]]\n",
            "<ipython-input-4-f46f0bb7f83b>:11: UserWarning: Pandas doesn't allow columns to be created via a new attribute name - see https://pandas.pydata.org/pandas-docs/stable/indexing.html#attribute-access\n",
            "  data.targets = data.Class\n"
          ]
        },
        {
          "output_type": "stream",
          "name": "stdout",
          "text": [
            "[[11  0  0]\n",
            " [ 0  8  0]\n",
            " [ 0  2  9]]\n",
            "0.9333333333333333\n"
          ]
        }
      ],
      "source": [
        "import pandas as pd\n",
        "from sklearn.ensemble import AdaBoostClassifier\n",
        "from sklearn.metrics import confusion_matrix\n",
        "from sklearn.metrics import accuracy_score\n",
        "from sklearn.model_selection import train_test_split\n",
        "\n",
        "data = pd.read_csv(\"iris_data.csv\")\n",
        "\n",
        "#print(data)\n",
        "data.features = data[[\"SepalLength\",\"SepalWidth\",\"PetalLength\",\"PetalWidth\"]]\n",
        "data.targets = data.Class\n",
        "\n",
        "feature_train, feature_test, target_train, target_test = train_test_split(data.features, data.targets, test_size=.2)\n",
        "\n",
        "model = AdaBoostClassifier(n_estimators=100,learning_rate=1,random_state=123)\n",
        "model.fitted = model.fit(feature_train, target_train)\n",
        "model.predictions = model.fitted.predict(feature_test)\n",
        "\n",
        "print(confusion_matrix(target_test, model.predictions))\n",
        "print(accuracy_score(target_test, model.predictions))\n"
      ]
    }
  ]
}