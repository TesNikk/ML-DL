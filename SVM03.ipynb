{
  "nbformat": 4,
  "nbformat_minor": 0,
  "metadata": {
    "colab": {
      "provenance": [],
      "authorship_tag": "ABX9TyMh5JMlGUtNE2bQ7vEA5or+",
      "include_colab_link": true
    },
    "kernelspec": {
      "name": "python3",
      "display_name": "Python 3"
    },
    "language_info": {
      "name": "python"
    }
  },
  "cells": [
    {
      "cell_type": "markdown",
      "metadata": {
        "id": "view-in-github",
        "colab_type": "text"
      },
      "source": [
        "<a href=\"https://colab.research.google.com/github/TesNikk/ML-DL/blob/main/SVM03.ipynb\" target=\"_parent\"><img src=\"https://colab.research.google.com/assets/colab-badge.svg\" alt=\"Open In Colab\"/></a>"
      ]
    },
    {
      "cell_type": "code",
      "execution_count": null,
      "metadata": {
        "colab": {
          "base_uri": "https://localhost:8080/",
          "height": 656
        },
        "id": "XalDATSeOBRO",
        "outputId": "856c5ed2-90ae-47fb-9220-b9e590dad9ab"
      },
      "outputs": [
        {
          "output_type": "stream",
          "name": "stdout",
          "text": [
            "Confusion matrix:\n",
            "[[42  0  0  0  1  0  0  0  0  0]\n",
            " [ 0 46  0  0  0  0  0  0  0  0]\n",
            " [ 0  0 43  0  0  0  0  0  0  0]\n",
            " [ 0  0  0 40  0  2  0  1  4  0]\n",
            " [ 0  0  0  0 45  0  0  0  1  2]\n",
            " [ 0  0  0  0  0 44  1  0  0  0]\n",
            " [ 0  0  0  0  0  0 47  0  0  0]\n",
            " [ 0  0  0  0  0  0  0 45  0  0]\n",
            " [ 0  1  0  0  0  0  0  0 40  0]\n",
            " [ 0  0  0  1  0  1  0  0  0 43]]\n",
            "0.9666666666666667\n",
            "Prediction for test image:  [0]\n"
          ]
        },
        {
          "output_type": "display_data",
          "data": {
            "text/plain": [
              "<Figure size 640x480 with 1 Axes>"
            ],
            "image/png": "[encoded data removed]"
          },
          "metadata": {}
        }
      ],
      "source": [
        "import matplotlib.pyplot as plt\n",
        "# Import datasets, classifiers and performance metrics\n",
        "from sklearn import datasets, svm, metrics\n",
        "from sklearn.metrics import accuracy_score\n",
        "\n",
        "# The digits dataset\n",
        "digits = datasets.load_digits()\n",
        "\n",
        "#print(\"Digits\\n\", digits)\n",
        "\n",
        "images_and_labels = list(zip(digits.images, digits.target))\n",
        "\n",
        "# for index, (image, label) in enumerate(images_and_labels[:6]):\n",
        "#    plt.subplot(2, 3, index + 1)\n",
        "#    plt.imshow(image, cmap=plt.cm.gray_r, interpolation='nearest')\n",
        "#    plt.title('Target: %i' % label)\n",
        "\n",
        "# To apply a classifier on this data, we need to flatten the image, to\n",
        "# turn the data in a (samples, feature) matrix:\n",
        "n_samples = len(digits.images)\n",
        "data = digits.images.reshape((n_samples, -1))\n",
        "#print(\"Data\\n\",data)\n",
        "\n",
        "# Create a classifier: a support vector classifier\n",
        "classifier = svm.SVC(gamma=0.001)\n",
        "\n",
        "# We learn the digits on the first half of the digits\n",
        "trainTestSplit = int(n_samples*0.75)\n",
        "classifier.fit(data[:trainTestSplit], digits.target[:trainTestSplit])\n",
        "\n",
        "# Now predict the value of the digit on the second half:\n",
        "expected = digits.target[trainTestSplit:]\n",
        "predicted = classifier.predict(data[trainTestSplit:])\n",
        "\n",
        "#print(\"Classification report for classifier %s:\\n%s\\n\"\n",
        "#% (classifier, metrics.classification_report(expected, predicted)))\n",
        "print(\"Confusion matrix:\\n%s\" % metrics.confusion_matrix(expected, predicted))\n",
        "print(accuracy_score(expected, predicted))\n",
        "\n",
        "\n",
        "# let's test on the last few images\n",
        "plt.imshow(digits.images[-4], cmap=plt.cm.gray_r, interpolation='nearest')\n",
        "print(\"Prediction for test image: \", classifier.predict(data[-4].reshape(1,-1)))\n",
        "\n",
        "plt.show()\n"
      ]
    }
  ]
}