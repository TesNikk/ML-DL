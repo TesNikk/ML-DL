{
  "nbformat": 4,
  "nbformat_minor": 0,
  "metadata": {
    "colab": {
      "provenance": [],
      "authorship_tag": "ABX9TyMrLr4RG9lpJmB0FXfA9T17",
      "include_colab_link": true
    },
    "kernelspec": {
      "name": "python3",
      "display_name": "Python 3"
    },
    "language_info": {
      "name": "python"
    }
  },
  "cells": [
    {
      "cell_type": "markdown",
      "metadata": {
        "id": "view-in-github",
        "colab_type": "text"
      },
      "source": [
        "<a href=\"https://colab.research.google.com/github/TesNikk/ML-DL/blob/main/Naive%2BBayes2.ipynb\" target=\"_parent\"><img src=\"https://colab.research.google.com/assets/colab-badge.svg\" alt=\"Open In Colab\"/></a>"
      ]
    },
    {
      "cell_type": "code",
      "execution_count": null,
      "metadata": {
        "colab": {
          "base_uri": "https://localhost:8080/"
        },
        "id": "cqhgbeiFrPey",
        "outputId": "bc86df08-4fa6-47a6-9cd9-e03a013247cf"
      },
      "outputs": [
        {
          "output_type": "stream",
          "name": "stdout",
          "text": [
            "[[513  11]\n",
            " [ 29  47]]\n",
            "0.9333333333333333\n"
          ]
        },
        {
          "output_type": "stream",
          "name": "stderr",
          "text": [
            "<ipython-input-1-9402c1576585>:17: UserWarning: Pandas doesn't allow columns to be created via a new attribute name - see https://pandas.pydata.org/pandas-docs/stable/indexing.html#attribute-access\n",
            "  data.features = data[[\"income\",\"age\",\"loan\"]]\n",
            "<ipython-input-1-9402c1576585>:18: UserWarning: Pandas doesn't allow columns to be created via a new attribute name - see https://pandas.pydata.org/pandas-docs/stable/indexing.html#attribute-access\n",
            "  data.target = data.default\n"
          ]
        }
      ],
      "source": [
        "import pandas as pd\n",
        "from sklearn.naive_bayes import GaussianNB\n",
        "from sklearn.model_selection import train_test_split\n",
        "from sklearn.metrics import confusion_matrix\n",
        "from sklearn.metrics import accuracy_score\n",
        "\n",
        "data = pd.read_csv(\"credit_data.csv\")\n",
        "\n",
        "# Logistic regression accuracy: 93%\n",
        "# we do better with knn: 97.5% !!!!!!!!\n",
        "# 84%\n",
        "\n",
        "#print(creditData.head())\n",
        "#print(creditData.describe())\n",
        "#print(creditData.corr())\n",
        "\n",
        "data.features = data[[\"income\",\"age\",\"loan\"]]\n",
        "data.target = data.default\n",
        "\n",
        "feature_train, feature_test, target_train, target_test = train_test_split(data.features,data.target, test_size=0.3)\n",
        "\n",
        "model = GaussianNB()\n",
        "fittedModel = model.fit(feature_train, target_train)\n",
        "predictions = fittedModel.predict(feature_test)\n",
        "\n",
        "print(confusion_matrix(target_test, predictions))\n",
        "print(accuracy_score(target_test,predictions))"
      ]
    }
  ]
}