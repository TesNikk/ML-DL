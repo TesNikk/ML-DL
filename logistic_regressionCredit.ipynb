{
  "nbformat": 4,
  "nbformat_minor": 0,
  "metadata": {
    "colab": {
      "provenance": [],
      "authorship_tag": "ABX9TyODW2LIJFltVSD94c5cfXuh",
      "include_colab_link": true
    },
    "kernelspec": {
      "name": "python3",
      "display_name": "Python 3"
    },
    "language_info": {
      "name": "python"
    }
  },
  "cells": [
    {
      "cell_type": "markdown",
      "metadata": {
        "id": "view-in-github",
        "colab_type": "text"
      },
      "source": [
        "<a href=\"https://colab.research.google.com/github/TesNikk/ML-DL/blob/main/logistic_regressionCredit.ipynb\" target=\"_parent\"><img src=\"https://colab.research.google.com/assets/colab-badge.svg\" alt=\"Open In Colab\"/></a>"
      ]
    },
    {
      "cell_type": "code",
      "execution_count": null,
      "metadata": {
        "colab": {
          "base_uri": "https://localhost:8080/"
        },
        "id": "OhHC-qm24l1o",
        "outputId": "f02e538e-af43-4798-cf7e-a8d17ca277ab"
      },
      "outputs": [
        {
          "output_type": "stream",
          "name": "stdout",
          "text": [
            "   clientid        income        age         loan       LTI  default\n",
            "0         1  66155.925095  59.017015  8106.532131  0.122537        0\n",
            "1         2  34415.153966  48.117153  6564.745018  0.190752        0\n",
            "2         3  57317.170063  63.108049  8020.953296  0.139940        0\n",
            "3         4  42709.534201  45.751972  6103.642260  0.142911        0\n",
            "4         5  66952.688845  18.584336  8770.099235  0.130989        1\n",
            "          clientid        income          age          loan          LTI  \\\n",
            "count  2000.000000   2000.000000  2000.000000   2000.000000  2000.000000   \n",
            "mean   1000.500000  45331.600018    40.927143   4444.369695     0.098403   \n",
            "std     577.494589  14326.327119    13.262450   3045.410024     0.057620   \n",
            "min       1.000000  20014.489470    18.055189      1.377630     0.000049   \n",
            "25%     500.750000  32796.459717    29.062492   1939.708847     0.047903   \n",
            "50%    1000.500000  45789.117313    41.382673   3974.719419     0.099437   \n",
            "75%    1500.250000  57791.281668    52.596993   6432.410625     0.147585   \n",
            "max    2000.000000  69995.685578    63.971796  13766.051239     0.199938   \n",
            "\n",
            "           default  \n",
            "count  2000.000000  \n",
            "mean      0.141500  \n",
            "std       0.348624  \n",
            "min       0.000000  \n",
            "25%       0.000000  \n",
            "50%       0.000000  \n",
            "75%       0.000000  \n",
            "max       1.000000  \n",
            "          clientid    income       age      loan       LTI   default\n",
            "clientid  1.000000  0.039280 -0.030341  0.018931  0.002538 -0.020145\n",
            "income    0.039280  1.000000 -0.034984  0.441117 -0.019862  0.002284\n",
            "age      -0.030341 -0.034984  1.000000  0.006561  0.021588 -0.444765\n",
            "loan      0.018931  0.441117  0.006561  1.000000  0.847495  0.377160\n",
            "LTI       0.002538 -0.019862  0.021588  0.847495  1.000000  0.433261\n",
            "default  -0.020145  0.002284 -0.444765  0.377160  0.433261  1.000000\n",
            "[[497  17]\n",
            " [ 19  67]]\n",
            "0.94\n"
          ]
        }
      ],
      "source": [
        "import pandas as pd\n",
        "from sklearn.linear_model import LogisticRegression\n",
        "from sklearn.model_selection import train_test_split\n",
        "from sklearn.metrics import confusion_matrix\n",
        "from sklearn.metrics import accuracy_score\n",
        "\n",
        "creditData = pd.read_csv(\"credit_data.csv\")\n",
        "#print first 5values\n",
        "print(creditData.head())\n",
        "print(creditData.describe())\n",
        "print(creditData.corr())\n",
        "\n",
        "features = creditData[[\"income\",\"age\",\"loan\"]]\n",
        "target = creditData.default\n",
        "\n",
        "feature_train, feature_test, target_train, target_test = train_test_split(features,target, test_size=0.3)\n",
        "\n",
        "model = LogisticRegression()\n",
        "model.fit = model.fit(feature_train, target_train)\n",
        "predictions = model.fit.predict(feature_test)\n",
        "\n",
        "print(confusion_matrix(target_test, predictions))\n",
        "print(accuracy_score(target_test,predictions))"
      ]
    }
  ]
}