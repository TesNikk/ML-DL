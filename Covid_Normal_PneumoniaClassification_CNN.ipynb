{
  "nbformat": 4,
  "nbformat_minor": 0,
  "metadata": {
    "colab": {
      "provenance": [],
      "gpuType": "T4",
      "authorship_tag": "ABX9TyPROjooI8dS8KFbewmLEzo1",
      "include_colab_link": true
    },
    "kernelspec": {
      "name": "python3",
      "display_name": "Python 3"
    },
    "language_info": {
      "name": "python"
    },
    "accelerator": "GPU"
  },
  "cells": [
    {
      "cell_type": "markdown",
      "metadata": {
        "id": "view-in-github",
        "colab_type": "text"
      },
      "source": [
        "<a href=\"https://colab.research.google.com/github/TesNikk/ML-DL/blob/main/Covid_Normal_PneumoniaClassification_CNN.ipynb\" target=\"_parent\"><img src=\"https://colab.research.google.com/assets/colab-badge.svg\" alt=\"Open In Colab\"/></a>"
      ]
    },
    {
      "cell_type": "markdown",
      "source": [
        "#Importing library"
      ],
      "metadata": {
        "id": "DMMLXfnevzqj"
      }
    },
    {
      "cell_type": "code",
      "source": [
        "from google.colab import files\n",
        "import zipfile\n",
        "import os\n",
        "import shutil #lets us copy files(shell utilities)\n",
        "import uuid\n",
        "from pathlib import Path\n",
        "from sklearn.model_selection import train_test_split\n",
        "from torchvision import transforms, datasets\n",
        "from torch.utils.data import DataLoader\n",
        "from collections import Counter\n",
        "from tensorflow.keras.models import Sequential\n",
        "from tensorflow.keras.layers import (Dense, Dropout, Activation, Flatten,\n",
        "                                     BatchNormalization, Conv2D, MaxPooling2D)\n",
        "from tensorflow.keras.optimizers import Adam\n",
        "from tensorflow.keras.preprocessing.image import ImageDataGenerator\n",
        "from sklearn.utils.class_weight import compute_class_weight\n",
        "import numpy as np\n",
        "from sklearn.metrics import confusion_matrix, ConfusionMatrixDisplay\n",
        "import matplotlib.pyplot as plt\n"
      ],
      "metadata": {
        "id": "XjGWyuvqL-Qs"
      },
      "execution_count": 1,
      "outputs": []
    },
    {
      "cell_type": "markdown",
      "source": [
        "#Mount the dataset"
      ],
      "metadata": {
        "id": "ynYRnIw1oYKY"
      }
    },
    {
      "cell_type": "code",
      "execution_count": 3,
      "metadata": {
        "colab": {
          "base_uri": "https://localhost:8080/"
        },
        "id": "rUdoVhGroQ-5",
        "outputId": "5129eef6-3abc-4d1e-ed8d-d31c23a7ef5e"
      },
      "outputs": [
        {
          "output_type": "stream",
          "name": "stdout",
          "text": [
            "Drive already mounted at /content/drive; to attempt to forcibly remount, call drive.mount(\"/content/drive\", force_remount=True).\n"
          ]
        }
      ],
      "source": [
        "from google.colab import drive\n",
        "drive.mount('/content/drive')\n",
        "# uploaded = files.upload()\n",
        "\n",
        "root_dir = \"/content/dataset/dataset\"\n",
        "\n",
        "if os.path.exists(root_dir):\n",
        "    shutil.rmtree(root_dir)\n",
        "\n",
        "with zipfile.ZipFile(\"/content/drive/MyDrive/Datasets/dataset.zip\", 'r') as zip_ref:\n",
        "    zip_ref.extractall(\"/content/dataset\")\n",
        "\n",
        "# Now your dataset is at: /content/dataset/\n"
      ]
    },
    {
      "cell_type": "markdown",
      "source": [
        "#Prepare paths and labels"
      ],
      "metadata": {
        "id": "v01UbDPNov_X"
      }
    },
    {
      "cell_type": "code",
      "source": [
        "\n",
        "# OR if using Google Drive:\n",
        "# root_dir = '/content/drive/MyDrive/Datasets/dataset'\n",
        "\n",
        "image_paths =[]\n",
        "labels = []\n",
        "\n",
        "class_to_label = {\"covid\": 0, \"normal\": 1, \"pneumonia\": 2}\n",
        "\n",
        "for class_name in class_to_label:\n",
        "    class_path = os.path.join(root_dir, class_name)\n",
        "    if os.path.isdir(class_path):\n",
        "        for subdir, _, files in os.walk(class_path):\n",
        "            for file in files:\n",
        "                if file.lower().endswith((\".jpg\", \".png\", \".tif\")):  # handle all formats\n",
        "                    image_paths.append(os.path.join(subdir, file))\n",
        "                    labels.append(class_to_label[class_name])\n",
        "\n",
        "print(f\"Total images: {len(image_paths)}\")\n"
      ],
      "metadata": {
        "colab": {
          "base_uri": "https://localhost:8080/"
        },
        "id": "hQxyDG31pDLv",
        "outputId": "6308b7c4-3ba5-4f0d-ef47-31d48ea5bf40"
      },
      "execution_count": 4,
      "outputs": [
        {
          "output_type": "stream",
          "name": "stdout",
          "text": [
            "Total images: 9584\n"
          ]
        }
      ]
    },
    {
      "cell_type": "markdown",
      "source": [
        "#Straitified split\n",
        "ensures that the proportion of each class in the original dataset is preserved in both the training and testing sets"
      ],
      "metadata": {
        "id": "UuL4CR8wsOyT"
      }
    },
    {
      "cell_type": "code",
      "source": [
        "train_paths,test_paths,train_labels,test_labels = train_test_split(\n",
        "    image_paths,labels,\n",
        "    test_size=0.2,\n",
        "    stratify= labels, #while splitting maintain the proportion of original dataset\n",
        "    random_state=42\n",
        ")\n",
        "\n",
        "print(f\"✅ Train split: {len(train_paths)} | Test split: {len(test_paths)}\")\n"
      ],
      "metadata": {
        "colab": {
          "base_uri": "https://localhost:8080/"
        },
        "id": "nYpV1xwSsfOw",
        "outputId": "f178ac9d-a74b-44f0-97f2-36009b01acc6"
      },
      "execution_count": 5,
      "outputs": [
        {
          "output_type": "stream",
          "name": "stdout",
          "text": [
            "✅ Train split: 7667 | Test split: 1917\n"
          ]
        }
      ]
    },
    {
      "cell_type": "markdown",
      "source": [
        "#Copy to new folder"
      ],
      "metadata": {
        "id": "Cj58OrpztblL"
      }
    },
    {
      "cell_type": "code",
      "source": [
        "# Optional safety: Clear existing dataset_split directory\n",
        "split_base = \"/content/dataset_split\"\n",
        "if os.path.exists(split_base):\n",
        "    shutil.rmtree(split_base)\n",
        "print(\"🧹 Cleared existing dataset_split folder.\")\n",
        "\n",
        "# Step 3: Copy to dataset_split folders\n",
        "for split, paths, split_labels in [(\"train\", train_paths, train_labels), (\"test\", test_paths, test_labels)]:\n",
        "    for img_path, label in zip(paths, split_labels):\n",
        "        class_name = [k for k, v in class_to_label.items() if v == label][0]\n",
        "        out_dir = Path(f\"/content/dataset_split/{split}/{class_name}\")\n",
        "        out_dir.mkdir(parents=True, exist_ok=True)\n",
        "\n",
        "        unique_name = f\"{uuid.uuid4().hex}_{os.path.basename(img_path)}\"\n",
        "        shutil.copy(img_path, out_dir / unique_name)\n",
        "\n",
        "# Step 4: Verify\n",
        "train_count = sum(len(files) for _, _, files in os.walk(\"/content/dataset_split/train\"))\n",
        "test_count = sum(len(files) for _, _, files in os.walk(\"/content/dataset_split/test\"))\n",
        "print(f\"✅ Files actually copied:\")\n",
        "print(f\"   - Train folder: {train_count}\")\n",
        "print(f\"   - Test folder: {test_count}\")\n"
      ],
      "metadata": {
        "colab": {
          "base_uri": "https://localhost:8080/"
        },
        "id": "V8CQn9kIt1Uf",
        "outputId": "4e1f07ba-77c9-4cfb-e55e-54b8a5499b95"
      },
      "execution_count": 6,
      "outputs": [
        {
          "output_type": "stream",
          "name": "stdout",
          "text": [
            "🧹 Cleared existing dataset_split folder.\n",
            "✅ Files actually copied:\n",
            "   - Train folder: 7667\n",
            "   - Test folder: 1917\n"
          ]
        }
      ]
    },
    {
      "cell_type": "markdown",
      "source": [
        "#Load the dataset"
      ],
      "metadata": {
        "id": "pMmdwPVtx3Tg"
      }
    },
    {
      "cell_type": "code",
      "source": [
        "# transform = transforms.Compose(\n",
        "#     [\n",
        "#         transforms.Grayscale(num_output_channels=1),\n",
        "#         transforms.Resize((224,224)),\n",
        "#         transforms.ToTensor(), #converting it into matrix and divides by 255\n",
        "#     ]\n",
        "# )\n",
        "\n",
        "# # train_dataset = datasets.ImageFolder(\"/content/drive/MyDrive/Datasets/dataset_split/train\", transform=transform)\n",
        "# # test_dataset = datasets.ImageFolder(\"/content/drive/MyDrive/Datasets/dataset_split/test\", transform=transform)\n",
        "\n",
        "# train_dataset = datasets.ImageFolder(\"/content/dataset_split/train\", transform=transform)\n",
        "# test_dataset = datasets.ImageFolder(\"/content/dataset_split/test\", transform=transform)\n",
        "\n",
        "\n",
        "# train_loader = DataLoader(train_dataset, batch_size=64, shuffle=True)\n",
        "# test_loader = DataLoader(test_dataset, batch_size=64, shuffle=False)\n",
        "\n",
        "# print(\"Train classes:\", train_dataset.classes)\n",
        "# print(\"Train size:\", len(train_dataset))\n",
        "# print(\"Test size:\", len(test_dataset))"
      ],
      "metadata": {
        "id": "EiEoLh3WyKid"
      },
      "execution_count": null,
      "outputs": []
    },
    {
      "cell_type": "markdown",
      "source": [
        "#Check Class Balance"
      ],
      "metadata": {
        "id": "3dg_pWEuz2IS"
      }
    },
    {
      "cell_type": "code",
      "source": [
        "# from collections import Counter\n",
        "\n",
        "# train_labels = [label for _, label in train_dataset] #_ means i dont care bout the 1st item in each tuple\n",
        "# test_labels = [label for _, label in test_dataset]\n",
        "\n",
        "# print(\"Train class counts:\", Counter(train_labels))\n",
        "# print(\"Test class counts:\", Counter(test_labels))\n"
      ],
      "metadata": {
        "id": "8Bx09gwfz4jA"
      },
      "execution_count": null,
      "outputs": []
    },
    {
      "cell_type": "markdown",
      "source": [
        "#Data Augmentation"
      ],
      "metadata": {
        "id": "DmgKmIsq30QT"
      }
    },
    {
      "cell_type": "code",
      "source": [
        "train_datagen = ImageDataGenerator(\n",
        "    rescale=1./255,\n",
        "    rotation_range=5,       # Reduce rotation\n",
        "    width_shift_range=0.05, # Reduce shift\n",
        "    height_shift_range=0.05,\n",
        "    zoom_range=0.05,        # Reduce zoom\n",
        "    horizontal_flip=True,\n",
        "    fill_mode='nearest'\n",
        ")\n",
        "\n",
        "test_datagen = ImageDataGenerator(rescale=1./255)  # Just normalize test images\n"
      ],
      "metadata": {
        "id": "GoYCxaZm32X_"
      },
      "execution_count": 7,
      "outputs": []
    },
    {
      "cell_type": "markdown",
      "source": [
        "#Data loading using flow_from_directory without augmentation"
      ],
      "metadata": {
        "id": "mPxPVYCIwajV"
      }
    },
    {
      "cell_type": "code",
      "source": [
        "batch = 16\n",
        "train_generator = train_datagen.flow_from_directory(\n",
        "    #'/content/drive/MyDrive/Datasets/dataset_split/train',\n",
        "    '/content/dataset_split/train',\n",
        "    target_size=(224, 224),\n",
        "    color_mode='grayscale',\n",
        "    batch_size=batch,\n",
        "    class_mode='sparse',   # Use 'categorical' if one-hot labels\n",
        "    shuffle=True\n",
        ")\n",
        "\n",
        "test_generator = test_datagen.flow_from_directory(\n",
        "    #'/content/drive/MyDrive/Datasets/dataset_split/test',\n",
        "   '/content/dataset_split/test',\n",
        "    target_size=(224, 224),\n",
        "    color_mode='grayscale',\n",
        "    batch_size=batch,\n",
        "    class_mode='sparse',\n",
        "    shuffle=False\n",
        ")\n",
        "\n",
        "print(\"Class indices:\", train_generator.class_indices)\n",
        "print(\"Train size:\", train_generator.samples)\n",
        "print(\"Test size:\", test_generator.samples)\n",
        "print(\"Train generator classes:\", train_generator.class_indices)\n",
        "print(\"Test generator classes:\", test_generator.class_indices)\n",
        "\n"
      ],
      "metadata": {
        "id": "stvnP6xQ38a9",
        "colab": {
          "base_uri": "https://localhost:8080/"
        },
        "outputId": "b49d6068-097b-42c9-b581-13481e441f91"
      },
      "execution_count": 37,
      "outputs": [
        {
          "output_type": "stream",
          "name": "stdout",
          "text": [
            "Found 7667 images belonging to 3 classes.\n",
            "Found 1917 images belonging to 3 classes.\n",
            "Class indices: {'covid': 0, 'normal': 1, 'pneumonia': 2}\n",
            "Train size: 7667\n",
            "Test size: 1917\n",
            "Train generator classes: {'covid': 0, 'normal': 1, 'pneumonia': 2}\n",
            "Test generator classes: {'covid': 0, 'normal': 1, 'pneumonia': 2}\n"
          ]
        }
      ]
    },
    {
      "cell_type": "markdown",
      "source": [
        "#Class weights"
      ],
      "metadata": {
        "id": "oqNimZkik4Ik"
      }
    },
    {
      "cell_type": "code",
      "source": [
        "class_weights = compute_class_weight(\n",
        "    class_weight='balanced',\n",
        "    classes=np.unique(train_generator.classes),\n",
        "    y=train_generator.classes\n",
        ")\n",
        "class_weights = dict(enumerate(class_weights))\n",
        "print(class_weights)\n"
      ],
      "metadata": {
        "id": "p4THWp2ndcRc",
        "colab": {
          "base_uri": "https://localhost:8080/"
        },
        "outputId": "107ad82f-63ff-4657-d95b-1014bfebaf3f"
      },
      "execution_count": 38,
      "outputs": [
        {
          "output_type": "stream",
          "name": "stdout",
          "text": [
            "{0: np.float64(0.5378086419753086), 1: np.float64(1.1189433741973147), 2: np.float64(4.050184891706286)}\n"
          ]
        }
      ]
    },
    {
      "cell_type": "markdown",
      "source": [
        "#Building the Model"
      ],
      "metadata": {
        "id": "N2oAguN311uY"
      }
    },
    {
      "cell_type": "code",
      "source": [
        "model = Sequential([\n",
        "    Conv2D(64, (3, 3), input_shape=(224, 224, 1), activation='relu', padding='same'),\n",
        "    BatchNormalization(),\n",
        "\n",
        "    Conv2D(64, (3, 3), activation='relu', padding='same'),\n",
        "    MaxPooling2D(pool_size=(2, 2)),\n",
        "    BatchNormalization(),\n",
        "\n",
        "    Conv2D(128, (3, 3), activation='relu', padding='same'),\n",
        "    MaxPooling2D(pool_size=(2, 2)),\n",
        "    BatchNormalization(),\n",
        "\n",
        "    Conv2D(128, (3, 3), activation='relu', padding='same'),\n",
        "    MaxPooling2D(pool_size=(2, 2)),\n",
        "\n",
        "    Flatten(),\n",
        "    BatchNormalization(),\n",
        "\n",
        "    Dense(256, activation='relu'),\n",
        "    Dropout(0.5),\n",
        "    BatchNormalization(),\n",
        "\n",
        "    Dense(3, activation='softmax')\n",
        "])"
      ],
      "metadata": {
        "id": "qjSr6-sl19U0",
        "colab": {
          "base_uri": "https://localhost:8080/"
        },
        "outputId": "e18f940a-be75-4a8a-d6a0-7d7e13d52f9e"
      },
      "execution_count": 39,
      "outputs": [
        {
          "output_type": "stream",
          "name": "stderr",
          "text": [
            "/usr/local/lib/python3.11/dist-packages/keras/src/layers/convolutional/base_conv.py:107: UserWarning: Do not pass an `input_shape`/`input_dim` argument to a layer. When using Sequential models, prefer using an `Input(shape)` object as the first layer in the model instead.\n",
            "  super().__init__(activity_regularizer=activity_regularizer, **kwargs)\n"
          ]
        }
      ]
    },
    {
      "cell_type": "code",
      "source": [
        "model.compile(\n",
        "    optimizer=Adam(learning_rate=1e-4),\n",
        "    loss='sparse_categorical_crossentropy',  # or categorical_crossentropy if one-hot\n",
        "    metrics=['accuracy'],\n",
        ")"
      ],
      "metadata": {
        "id": "ny2imN-426uw"
      },
      "execution_count": 40,
      "outputs": []
    },
    {
      "cell_type": "markdown",
      "source": [
        "#Train"
      ],
      "metadata": {
        "id": "ONCbRo0ulLoY"
      }
    },
    {
      "cell_type": "code",
      "source": [
        "model.fit(\n",
        "    train_generator,\n",
        "    steps_per_epoch=train_generator.samples // train_generator.batch_size,\n",
        "    epochs=15,\n",
        "    validation_data=test_generator,\n",
        "    validation_steps=test_generator.samples // test_generator.batch_size,\n",
        "    class_weight=class_weights\n",
        ")"
      ],
      "metadata": {
        "id": "X114gvn_lNRl",
        "colab": {
          "base_uri": "https://localhost:8080/"
        },
        "outputId": "e12f0a42-cebe-4d82-e8d4-f86a53c11a11"
      },
      "execution_count": 41,
      "outputs": [
        {
          "output_type": "stream",
          "name": "stderr",
          "text": [
            "/usr/local/lib/python3.11/dist-packages/keras/src/trainers/data_adapters/py_dataset_adapter.py:121: UserWarning: Your `PyDataset` class should call `super().__init__(**kwargs)` in its constructor. `**kwargs` can include `workers`, `use_multiprocessing`, `max_queue_size`. Do not pass these arguments to `fit()`, as they will be ignored.\n",
            "  self._warn_if_super_not_called()\n"
          ]
        },
        {
          "output_type": "stream",
          "name": "stdout",
          "text": [
            "Epoch 1/15\n",
            "\u001b[1m479/479\u001b[0m \u001b[32m━━━━━━━━━━━━━━━━━━━━\u001b[0m\u001b[37m\u001b[0m \u001b[1m81s\u001b[0m 139ms/step - accuracy: 0.6390 - loss: 0.6692 - val_accuracy: 0.0762 - val_loss: 5.6057\n",
            "Epoch 2/15\n",
            "\u001b[1m  1/479\u001b[0m \u001b[37m━━━━━━━━━━━━━━━━━━━━\u001b[0m \u001b[1m45s\u001b[0m 95ms/step - accuracy: 0.5625 - loss: 0.7167"
          ]
        },
        {
          "output_type": "stream",
          "name": "stderr",
          "text": [
            "/usr/local/lib/python3.11/dist-packages/keras/src/trainers/epoch_iterator.py:107: UserWarning: Your input ran out of data; interrupting training. Make sure that your dataset or generator can generate at least `steps_per_epoch * epochs` batches. You may need to use the `.repeat()` function when building your dataset.\n",
            "  self._interrupted_warning()\n"
          ]
        },
        {
          "output_type": "stream",
          "name": "stdout",
          "text": [
            "\b\b\b\b\b\b\b\b\b\b\b\b\b\b\b\b\b\b\b\b\b\b\b\b\b\b\b\b\b\b\b\b\b\b\b\b\b\b\b\b\b\b\b\b\b\b\b\b\b\b\b\b\b\b\b\b\b\b\b\b\b\b\b\b\b\b\b\b\b\b\b\b\b\b\b\b\r\u001b[1m479/479\u001b[0m \u001b[32m━━━━━━━━━━━━━━━━━━━━\u001b[0m\u001b[37m\u001b[0m \u001b[1m4s\u001b[0m 8ms/step - accuracy: 0.5625 - loss: 0.7167 - val_accuracy: 0.0762 - val_loss: 5.6557\n",
            "Epoch 3/15\n",
            "\u001b[1m479/479\u001b[0m \u001b[32m━━━━━━━━━━━━━━━━━━━━\u001b[0m\u001b[37m\u001b[0m \u001b[1m60s\u001b[0m 124ms/step - accuracy: 0.7114 - loss: 0.4716 - val_accuracy: 0.8183 - val_loss: 0.4124\n",
            "Epoch 4/15\n",
            "\u001b[1m479/479\u001b[0m \u001b[32m━━━━━━━━━━━━━━━━━━━━\u001b[0m\u001b[37m\u001b[0m \u001b[1m5s\u001b[0m 10ms/step - accuracy: 0.7500 - loss: 0.5106 - val_accuracy: 0.8199 - val_loss: 0.4080\n",
            "Epoch 5/15\n",
            "\u001b[1m479/479\u001b[0m \u001b[32m━━━━━━━━━━━━━━━━━━━━\u001b[0m\u001b[37m\u001b[0m \u001b[1m77s\u001b[0m 125ms/step - accuracy: 0.7307 - loss: 0.4348 - val_accuracy: 0.7946 - val_loss: 0.4174\n",
            "Epoch 6/15\n",
            "\u001b[1m479/479\u001b[0m \u001b[32m━━━━━━━━━━━━━━━━━━━━\u001b[0m\u001b[37m\u001b[0m \u001b[1m4s\u001b[0m 8ms/step - accuracy: 0.8125 - loss: 0.3825 - val_accuracy: 0.7894 - val_loss: 0.4215\n",
            "Epoch 7/15\n",
            "\u001b[1m479/479\u001b[0m \u001b[32m━━━━━━━━━━━━━━━━━━━━\u001b[0m\u001b[37m\u001b[0m \u001b[1m78s\u001b[0m 124ms/step - accuracy: 0.7386 - loss: 0.4009 - val_accuracy: 0.8645 - val_loss: 0.2916\n",
            "Epoch 8/15\n",
            "\u001b[1m479/479\u001b[0m \u001b[32m━━━━━━━━━━━━━━━━━━━━\u001b[0m\u001b[37m\u001b[0m \u001b[1m4s\u001b[0m 8ms/step - accuracy: 0.5625 - loss: 0.4527 - val_accuracy: 0.8661 - val_loss: 0.2910\n",
            "Epoch 9/15\n",
            "\u001b[1m479/479\u001b[0m \u001b[32m━━━━━━━━━━━━━━━━━━━━\u001b[0m\u001b[37m\u001b[0m \u001b[1m77s\u001b[0m 122ms/step - accuracy: 0.7741 - loss: 0.3672 - val_accuracy: 0.8582 - val_loss: 0.3317\n",
            "Epoch 10/15\n",
            "\u001b[1m479/479\u001b[0m \u001b[32m━━━━━━━━━━━━━━━━━━━━\u001b[0m\u001b[37m\u001b[0m \u001b[1m4s\u001b[0m 8ms/step - accuracy: 0.7500 - loss: 0.4370 - val_accuracy: 0.8545 - val_loss: 0.3339\n",
            "Epoch 11/15\n",
            "\u001b[1m479/479\u001b[0m \u001b[32m━━━━━━━━━━━━━━━━━━━━\u001b[0m\u001b[37m\u001b[0m \u001b[1m59s\u001b[0m 123ms/step - accuracy: 0.7805 - loss: 0.3497 - val_accuracy: 0.8640 - val_loss: 0.2997\n",
            "Epoch 12/15\n",
            "\u001b[1m479/479\u001b[0m \u001b[32m━━━━━━━━━━━━━━━━━━━━\u001b[0m\u001b[37m\u001b[0m \u001b[1m4s\u001b[0m 8ms/step - accuracy: 0.7500 - loss: 0.4694 - val_accuracy: 0.8619 - val_loss: 0.3028\n",
            "Epoch 13/15\n",
            "\u001b[1m479/479\u001b[0m \u001b[32m━━━━━━━━━━━━━━━━━━━━\u001b[0m\u001b[37m\u001b[0m \u001b[1m82s\u001b[0m 132ms/step - accuracy: 0.7881 - loss: 0.3237 - val_accuracy: 0.8445 - val_loss: 0.3315\n",
            "Epoch 14/15\n",
            "\u001b[1m479/479\u001b[0m \u001b[32m━━━━━━━━━━━━━━━━━━━━\u001b[0m\u001b[37m\u001b[0m \u001b[1m4s\u001b[0m 9ms/step - accuracy: 1.0000 - loss: 0.2123 - val_accuracy: 0.8424 - val_loss: 0.3460\n",
            "Epoch 15/15\n",
            "\u001b[1m479/479\u001b[0m \u001b[32m━━━━━━━━━━━━━━━━━━━━\u001b[0m\u001b[37m\u001b[0m \u001b[1m81s\u001b[0m 140ms/step - accuracy: 0.8044 - loss: 0.3099 - val_accuracy: 0.7721 - val_loss: 0.4594\n"
          ]
        },
        {
          "output_type": "execute_result",
          "data": {
            "text/plain": [
              "<keras.src.callbacks.history.History at 0x7f60fc3f1190>"
            ]
          },
          "metadata": {},
          "execution_count": 41
        }
      ]
    },
    {
      "cell_type": "markdown",
      "source": [
        "#Evaluate the model"
      ],
      "metadata": {
        "id": "B7JTmVLFdxuf"
      }
    },
    {
      "cell_type": "code",
      "source": [
        "loss, acc = model.evaluate(test_generator)\n",
        "print(f\"Test accuracy: {acc:.2f}\")\n"
      ],
      "metadata": {
        "id": "HrUq1cFzdz0V",
        "colab": {
          "base_uri": "https://localhost:8080/"
        },
        "outputId": "09f28cbd-d1ec-43ec-ec69-01be5c818de9"
      },
      "execution_count": 42,
      "outputs": [
        {
          "output_type": "stream",
          "name": "stdout",
          "text": [
            "\u001b[1m120/120\u001b[0m \u001b[32m━━━━━━━━━━━━━━━━━━━━\u001b[0m\u001b[37m\u001b[0m \u001b[1m7s\u001b[0m 57ms/step - accuracy: 0.9042 - loss: 0.2275\n",
            "Test accuracy: 0.77\n"
          ]
        }
      ]
    },
    {
      "cell_type": "markdown",
      "source": [
        "prediction"
      ],
      "metadata": {
        "id": "0udAy9MBw_kB"
      }
    },
    {
      "cell_type": "code",
      "source": [
        "pred_probs = model.predict(test_generator)\n",
        "pred_labels = np.argmax(pred_probs, axis=1)\n",
        "true_labels = test_generator.classes"
      ],
      "metadata": {
        "id": "Qjp30x6Wd1vg",
        "colab": {
          "base_uri": "https://localhost:8080/"
        },
        "outputId": "0b6c093e-846d-4923-fd79-069550fc5571"
      },
      "execution_count": 43,
      "outputs": [
        {
          "output_type": "stream",
          "name": "stdout",
          "text": [
            "\u001b[1m120/120\u001b[0m \u001b[32m━━━━━━━━━━━━━━━━━━━━\u001b[0m\u001b[37m\u001b[0m \u001b[1m5s\u001b[0m 38ms/step\n"
          ]
        }
      ]
    },
    {
      "cell_type": "code",
      "source": [
        "from sklearn.metrics import classification_report\n",
        "class_names = list(test_generator.class_indices.keys())\n",
        "print(classification_report(true_labels, pred_labels, target_names=class_names))\n"
      ],
      "metadata": {
        "id": "NofASnMDMEDC",
        "colab": {
          "base_uri": "https://localhost:8080/"
        },
        "outputId": "234cf56c-e78a-4f5f-8927-26697ab9c105"
      },
      "execution_count": 44,
      "outputs": [
        {
          "output_type": "stream",
          "name": "stdout",
          "text": [
            "              precision    recall  f1-score   support\n",
            "\n",
            "       covid       0.75      0.96      0.84      1188\n",
            "      normal       0.81      0.32      0.45       571\n",
            "   pneumonia       1.00      1.00      1.00       158\n",
            "\n",
            "    accuracy                           0.77      1917\n",
            "   macro avg       0.85      0.76      0.76      1917\n",
            "weighted avg       0.78      0.77      0.74      1917\n",
            "\n"
          ]
        }
      ]
    },
    {
      "cell_type": "markdown",
      "source": [
        "#Confusion Matrix"
      ],
      "metadata": {
        "id": "8ByLH8XnxFTx"
      }
    },
    {
      "cell_type": "code",
      "source": [
        "\n",
        "cm = confusion_matrix(true_labels, pred_labels)\n",
        "disp = ConfusionMatrixDisplay(confusion_matrix=cm, display_labels=class_names)\n",
        "disp.plot(cmap='Blues', xticks_rotation=45)\n",
        "plt.title(\"Confusion Matrix\")\n",
        "plt.show()"
      ],
      "metadata": {
        "id": "EAXkGn8Yd36V",
        "colab": {
          "base_uri": "https://localhost:8080/",
          "height": 523
        },
        "outputId": "78f045b0-8b7b-495e-e80c-0e554930defc"
      },
      "execution_count": 45,
      "outputs": [
        {
          "output_type": "display_data",
          "data": {
            "text/plain": [
              "<Figure size 640x480 with 2 Axes>"
            ],
            "image/png": "[encoded data removed]"
          },
          "metadata": {}
        }
      ]
    }
  ]
}