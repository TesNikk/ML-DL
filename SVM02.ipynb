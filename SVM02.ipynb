{
  "nbformat": 4,
  "nbformat_minor": 0,
  "metadata": {
    "colab": {
      "provenance": [],
      "authorship_tag": "ABX9TyO4nJiKmiG4hDsAUdlEcR1u",
      "include_colab_link": true
    },
    "kernelspec": {
      "name": "python3",
      "display_name": "Python 3"
    },
    "language_info": {
      "name": "python"
    }
  },
  "cells": [
    {
      "cell_type": "markdown",
      "metadata": {
        "id": "view-in-github",
        "colab_type": "text"
      },
      "source": [
        "<a href=\"https://colab.research.google.com/github/TesNikk/ML-DL/blob/main/SVM02.ipynb\" target=\"_parent\"><img src=\"https://colab.research.google.com/assets/colab-badge.svg\" alt=\"Open In Colab\"/></a>"
      ]
    },
    {
      "cell_type": "code",
      "execution_count": null,
      "metadata": {
        "colab": {
          "base_uri": "https://localhost:8080/"
        },
        "id": "vV-EKNHvKZl0",
        "outputId": "acd9eee8-2306-42a8-85c0-be5b45a426b6"
      },
      "outputs": [
        {
          "output_type": "stream",
          "name": "stdout",
          "text": [
            "[[17  0  0]\n",
            " [ 0 10  1]\n",
            " [ 0  0 17]]\n",
            "0.9777777777777777\n"
          ]
        }
      ],
      "source": [
        "from sklearn import svm\n",
        "from sklearn.model_selection import train_test_split\n",
        "from sklearn.metrics import confusion_matrix\n",
        "from sklearn.metrics import accuracy_score\n",
        "from sklearn import datasets\n",
        "\n",
        "#\n",
        "#\tImportant parameters for SVC: gamma and C\n",
        "#\t\tgamma -> defines how far the influence of a single training example reaches\n",
        "#\t\t\t\t\tLow value: influence reaches far      High value: influence reaches close\n",
        "#\n",
        "#\t\tC -> trades off hyperplane surface simplicity + training examples missclassifications\n",
        "#\t\t\t\t\tLow value: simple/smooth hyperplane surface\n",
        "#\t\t\t\t\tHigh value: all training examples classified correctly but complex surface\n",
        "\n",
        "dataset = datasets.load_iris()\n",
        "\n",
        "#print(dataset)\n",
        "\n",
        "features = dataset.data\n",
        "targetVariables = dataset.target\n",
        "\n",
        "featureTrain, featureTest, targetTrain, targetTest = train_test_split(features, targetVariables, test_size=0.3)\n",
        "\n",
        "model = svm.SVC(gamma=0.002, C=80)\n",
        "#model = svm.SVC()\n",
        "fittedModel = model.fit(featureTrain, targetTrain)\n",
        "predictions = fittedModel.predict(featureTest)\n",
        "\n",
        "print(confusion_matrix(targetTest, predictions))\n",
        "print(accuracy_score(targetTest, predictions))"
      ]
    }
  ]
}