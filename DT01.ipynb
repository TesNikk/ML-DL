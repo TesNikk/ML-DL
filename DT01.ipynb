{
  "nbformat": 4,
  "nbformat_minor": 0,
  "metadata": {
    "colab": {
      "provenance": [],
      "authorship_tag": "ABX9TyMhTCtf83I1qvjyK4+oTaBf",
      "include_colab_link": true
    },
    "kernelspec": {
      "name": "python3",
      "display_name": "Python 3"
    },
    "language_info": {
      "name": "python"
    }
  },
  "cells": [
    {
      "cell_type": "markdown",
      "metadata": {
        "id": "view-in-github",
        "colab_type": "text"
      },
      "source": [
        "<a href=\"https://colab.research.google.com/github/TesNikk/ML-DL/blob/main/DT01.ipynb\" target=\"_parent\"><img src=\"https://colab.research.google.com/assets/colab-badge.svg\" alt=\"Open In Colab\"/></a>"
      ]
    },
    {
      "cell_type": "code",
      "execution_count": null,
      "metadata": {
        "colab": {
          "base_uri": "https://localhost:8080/"
        },
        "id": "VRVMtf7_3opf",
        "outputId": "43c0febb-efab-4c20-f660-48ca3ce42093"
      },
      "outputs": [
        {
          "output_type": "stream",
          "name": "stdout",
          "text": [
            "[[11  0  0]\n",
            " [ 0 11  0]\n",
            " [ 0  0  8]]\n",
            "1.0\n",
            "0.9533333333333334\n"
          ]
        },
        {
          "output_type": "stream",
          "name": "stderr",
          "text": [
            "<ipython-input-8-c52c6b6d4240>:8: UserWarning: Pandas doesn't allow columns to be created via a new attribute name - see https://pandas.pydata.org/pandas-docs/stable/indexing.html#attribute-access\n",
            "  data.features = data[[\"SepalLength\",\"SepalWidth\",\"PetalLength\",\"PetalWidth\"]]\n",
            "<ipython-input-8-c52c6b6d4240>:9: UserWarning: Pandas doesn't allow columns to be created via a new attribute name - see https://pandas.pydata.org/pandas-docs/stable/indexing.html#attribute-access\n",
            "  data.targets = data.Class\n"
          ]
        }
      ],
      "source": [
        "import pandas as pd\n",
        "from sklearn.tree import DecisionTreeClassifier\n",
        "from sklearn.metrics import confusion_matrix, accuracy_score\n",
        "from sklearn.model_selection import train_test_split\n",
        "from sklearn.model_selection import cross_val_predict\n",
        "\n",
        "data = pd.read_csv(\"iris_data.csv\")\n",
        "data.features = data[[\"SepalLength\",\"SepalWidth\",\"PetalLength\",\"PetalWidth\"]]\n",
        "data.targets = data.Class\n",
        "feature_train,feature_test,target_train,target_test = train_test_split(data.features,data.targets,test_size=0.2)\n",
        "model = DecisionTreeClassifier(criterion='entropy')\n",
        "model.fitted = model.fit(feature_train, target_train)\n",
        "model.predictions = model.fitted.predict(feature_test)\n",
        "\n",
        "print(confusion_matrix(target_test, model.predictions))\n",
        "print(accuracy_score(target_test, model.predictions))\n",
        "\n",
        "predicted = cross_val_predict(model,data.features,data.targets, cv=10)\n",
        "print(accuracy_score(data.targets,predicted))"
      ]
    }
  ]
}