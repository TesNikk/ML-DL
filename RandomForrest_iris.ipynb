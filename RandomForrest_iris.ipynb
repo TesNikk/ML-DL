{
  "nbformat": 4,
  "nbformat_minor": 0,
  "metadata": {
    "colab": {
      "provenance": [],
      "authorship_tag": "ABX9TyMABD+a1dxm2w6sWbEJZM+x",
      "include_colab_link": true
    },
    "kernelspec": {
      "name": "python3",
      "display_name": "Python 3"
    },
    "language_info": {
      "name": "python"
    }
  },
  "cells": [
    {
      "cell_type": "markdown",
      "metadata": {
        "id": "view-in-github",
        "colab_type": "text"
      },
      "source": [
        "<a href=\"https://colab.research.google.com/github/TesNikk/ML-DL/blob/main/RandomForrest_iris.ipynb\" target=\"_parent\"><img src=\"https://colab.research.google.com/assets/colab-badge.svg\" alt=\"Open In Colab\"/></a>"
      ]
    },
    {
      "cell_type": "code",
      "execution_count": null,
      "metadata": {
        "colab": {
          "base_uri": "https://localhost:8080/"
        },
        "id": "J0fTa7V8Z5wN",
        "outputId": "bdd1fdb2-9477-44ad-9098-d30640c2a5e5"
      },
      "outputs": [
        {
          "output_type": "stream",
          "name": "stdout",
          "text": [
            "[[13  0  0]\n",
            " [ 0  9  2]\n",
            " [ 0  2  4]]\n",
            "0.8666666666666667\n"
          ]
        }
      ],
      "source": [
        "from sklearn.ensemble import RandomForestClassifier\n",
        "from sklearn.model_selection import train_test_split\n",
        "from sklearn.metrics import confusion_matrix\n",
        "from sklearn.metrics import accuracy_score\n",
        "from sklearn import datasets\n",
        "\n",
        "dataset = datasets.load_iris()\n",
        "\n",
        "features = dataset.data\n",
        "targets = dataset.target\n",
        "\n",
        "feature_train, feature_test, target_train, target_test = train_test_split(features, targets, test_size=.2)\n",
        "\n",
        "model = RandomForestClassifier(n_estimators=1000, max_features='sqrt')\n",
        "fitted_model = model.fit(feature_train, target_train)\n",
        "predictions = fitted_model.predict(feature_test)\n",
        "\n",
        "print(confusion_matrix(target_test, predictions))\n",
        "print(accuracy_score(target_test, predictions))"
      ]
    }
  ]
}