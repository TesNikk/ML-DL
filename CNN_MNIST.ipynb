{
  "nbformat": 4,
  "nbformat_minor": 0,
  "metadata": {
    "colab": {
      "provenance": [],
      "authorship_tag": "ABX9TyMftrNwaeRL2IVkDsXBvZHn",
      "include_colab_link": true
    },
    "kernelspec": {
      "name": "python3",
      "display_name": "Python 3"
    },
    "language_info": {
      "name": "python"
    }
  },
  "cells": [
    {
      "cell_type": "markdown",
      "metadata": {
        "id": "view-in-github",
        "colab_type": "text"
      },
      "source": [
        "<a href=\"https://colab.research.google.com/github/TesNikk/ML-DL/blob/main/CNN_MNIST.ipynb\" target=\"_parent\"><img src=\"https://colab.research.google.com/assets/colab-badge.svg\" alt=\"Open In Colab\"/></a>"
      ]
    },
    {
      "cell_type": "markdown",
      "source": [
        "#Import library"
      ],
      "metadata": {
        "id": "kWw9hlnS_4JN"
      }
    },
    {
      "cell_type": "code",
      "execution_count": 15,
      "metadata": {
        "id": "OvXew0I4_RhD"
      },
      "outputs": [],
      "source": [
        "import numpy as np\n",
        "import matplotlib.pyplot as plt\n",
        "from tensorflow.keras.datasets import mnist\n",
        "from tensorflow.keras.models import Sequential\n",
        "from tensorflow.keras.layers import (Dense,Dropout,Activation,Flatten,\n",
        "                                     BatchNormalization, Conv2D, MaxPooling2D)\n",
        "from tensorflow.keras.utils import to_categorical\n",
        "from tensorflow.keras.preprocessing.image import ImageDataGenerator\n",
        "from tensorflow.keras.optimizers import Adam\n",
        "\n"
      ]
    },
    {
      "cell_type": "markdown",
      "source": [
        "#Load Dataset"
      ],
      "metadata": {
        "id": "y5DKv_-lBG8p"
      }
    },
    {
      "cell_type": "code",
      "source": [
        "(X_train,y_train),(X_test,y_test) = mnist.load_data()\n",
        "print(\"X_train shape\",X_train.shape)\n",
        "print(\"y_train shape\",y_train.shape)\n",
        "print(\"X_test shape\",X_test.shape)\n",
        "print(\"y_test shape\",y_test.shape)"
      ],
      "metadata": {
        "colab": {
          "base_uri": "https://localhost:8080/"
        },
        "id": "srBWdevqBI-2",
        "outputId": "5ad62889-2f4d-4e6e-dba3-93554aa7f69c"
      },
      "execution_count": 2,
      "outputs": [
        {
          "output_type": "stream",
          "name": "stdout",
          "text": [
            "Downloading data from https://storage.googleapis.com/tensorflow/tf-keras-datasets/mnist.npz\n",
            "\u001b[1m11490434/11490434\u001b[0m \u001b[32m━━━━━━━━━━━━━━━━━━━━\u001b[0m\u001b[37m\u001b[0m \u001b[1m0s\u001b[0m 0us/step\n",
            "X_train shape (60000, 28, 28)\n",
            "y_train shape (60000,)\n",
            "X_test shape (10000, 28, 28)\n",
            "y_test shape (10000,)\n"
          ]
        }
      ]
    },
    {
      "cell_type": "markdown",
      "source": [
        "#Reshape and Normalize input\n",
        "\n",
        "tensorflow can handle format: (batch,height,width,channel)"
      ],
      "metadata": {
        "id": "xWdz2yDiB1kv"
      }
    },
    {
      "cell_type": "code",
      "source": [
        "features_train = X_train.reshape(-1,28,28,1).astype(\"float32\")/255.0\n",
        "features_test = X_test.reshape(-1,28,28,1).astype(\"float32\")/255.0"
      ],
      "metadata": {
        "id": "MxVdBY_AB5Th"
      },
      "execution_count": 4,
      "outputs": []
    },
    {
      "cell_type": "markdown",
      "source": [
        "# One hot encoding"
      ],
      "metadata": {
        "id": "_FL0FEAEBwni"
      }
    },
    {
      "cell_type": "code",
      "source": [
        "targets_train = to_categorical(y_train,10)\n",
        "targets_test = to_categorical(y_test,10)"
      ],
      "metadata": {
        "id": "cnZZljo6Bvlp"
      },
      "execution_count": 5,
      "outputs": []
    },
    {
      "cell_type": "markdown",
      "source": [
        "#Build the CNN model"
      ],
      "metadata": {
        "id": "5_V6GonEDCFp"
      }
    },
    {
      "cell_type": "code",
      "source": [
        "model = Sequential(\n",
        "    [\n",
        "        Conv2D(32,(3,3), input_shape=(28,28,1),activation=\"relu\"),\n",
        "        BatchNormalization(),\n",
        "\n",
        "        Conv2D(32,(3,3),activation=\"relu\"),\n",
        "        MaxPooling2D(pool_size=(2,2)),\n",
        "        BatchNormalization(),\n",
        "\n",
        "        Conv2D(64,(3,3),activation=\"relu\"),\n",
        "        BatchNormalization(),\n",
        "\n",
        "        Conv2D(32,(3,3),activation='relu'),\n",
        "        MaxPooling2D(pool_size=(2,2)),\n",
        "\n",
        "        Flatten(),\n",
        "        BatchNormalization(),\n",
        "\n",
        "        Dense(512,activation='relu'),\n",
        "        BatchNormalization(),\n",
        "        Dropout(0.3),\n",
        "        Dense(10,activation='softmax')\n",
        "\n",
        "\n",
        "\n",
        "    ]\n",
        ")"
      ],
      "metadata": {
        "colab": {
          "base_uri": "https://localhost:8080/"
        },
        "id": "9yxQI4FiDBWx",
        "outputId": "83e06baf-1f2a-4970-8f8f-78c03ef3e146"
      },
      "execution_count": 7,
      "outputs": [
        {
          "output_type": "stream",
          "name": "stderr",
          "text": [
            "/usr/local/lib/python3.11/dist-packages/keras/src/layers/convolutional/base_conv.py:107: UserWarning: Do not pass an `input_shape`/`input_dim` argument to a layer. When using Sequential models, prefer using an `Input(shape)` object as the first layer in the model instead.\n",
            "  super().__init__(activity_regularizer=activity_regularizer, **kwargs)\n"
          ]
        }
      ]
    },
    {
      "cell_type": "markdown",
      "source": [
        "#Compile Model"
      ],
      "metadata": {
        "id": "Oet_0spZHn8p"
      }
    },
    {
      "cell_type": "code",
      "source": [
        "model.compile(\n",
        "    optimizer = Adam(),\n",
        "    loss='categorical_crossentropy',\n",
        "    metrics=['accuracy']\n",
        ")"
      ],
      "metadata": {
        "id": "3-xbhs2pHqNU"
      },
      "execution_count": 8,
      "outputs": []
    },
    {
      "cell_type": "markdown",
      "source": [
        "#Data Augmentation"
      ],
      "metadata": {
        "id": "fPF1cvCGICAX"
      }
    },
    {
      "cell_type": "code",
      "source": [
        "train_datagen = ImageDataGenerator(\n",
        "    rotation_range = 7,\n",
        "    width_shift_range=0.05,\n",
        "    shear_range = 0.2,\n",
        "    height_shift_range=0.07,\n",
        "    zoom_range=0.05,\n",
        ")\n",
        "\n",
        "test_datagen = ImageDataGenerator()\n",
        "\n",
        "train_generator = train_datagen.flow(features_train,targets_train,batch_size = 64)\n",
        "test_generator = test_datagen.flow(features_test,targets_test,batch_size=64)"
      ],
      "metadata": {
        "id": "hxVeO7PYIER_"
      },
      "execution_count": 11,
      "outputs": []
    },
    {
      "cell_type": "markdown",
      "source": [
        "#Train the model"
      ],
      "metadata": {
        "id": "to_GQLs9JNTl"
      }
    },
    {
      "cell_type": "code",
      "source": [
        "model.fit(\n",
        "    train_generator,\n",
        "    steps_per_epoch = len(features_train) // 64,\n",
        "    epochs=5,\n",
        "    validation_data = test_generator,\n",
        "    validation_steps=len(features_test) // 64\n",
        ")"
      ],
      "metadata": {
        "colab": {
          "base_uri": "https://localhost:8080/"
        },
        "id": "aE6jVm8TJa4s",
        "outputId": "9c4b3613-de5d-4e2b-9bdc-f5734e12d044"
      },
      "execution_count": 12,
      "outputs": [
        {
          "output_type": "stream",
          "name": "stdout",
          "text": [
            "Epoch 1/5\n"
          ]
        },
        {
          "output_type": "stream",
          "name": "stderr",
          "text": [
            "/usr/local/lib/python3.11/dist-packages/keras/src/trainers/data_adapters/py_dataset_adapter.py:121: UserWarning: Your `PyDataset` class should call `super().__init__(**kwargs)` in its constructor. `**kwargs` can include `workers`, `use_multiprocessing`, `max_queue_size`. Do not pass these arguments to `fit()`, as they will be ignored.\n",
            "  self._warn_if_super_not_called()\n"
          ]
        },
        {
          "output_type": "stream",
          "name": "stdout",
          "text": [
            "\u001b[1m937/937\u001b[0m \u001b[32m━━━━━━━━━━━━━━━━━━━━\u001b[0m\u001b[37m\u001b[0m \u001b[1m189s\u001b[0m 196ms/step - accuracy: 0.9123 - loss: 0.2789 - val_accuracy: 0.9885 - val_loss: 0.0352\n",
            "Epoch 2/5\n",
            "\u001b[1m  1/937\u001b[0m \u001b[37m━━━━━━━━━━━━━━━━━━━━\u001b[0m \u001b[1m2:34\u001b[0m 165ms/step - accuracy: 0.9844 - loss: 0.0467"
          ]
        },
        {
          "output_type": "stream",
          "name": "stderr",
          "text": [
            "/usr/local/lib/python3.11/dist-packages/keras/src/trainers/epoch_iterator.py:107: UserWarning: Your input ran out of data; interrupting training. Make sure that your dataset or generator can generate at least `steps_per_epoch * epochs` batches. You may need to use the `.repeat()` function when building your dataset.\n",
            "  self._interrupted_warning()\n"
          ]
        },
        {
          "output_type": "stream",
          "name": "stdout",
          "text": [
            "\b\b\b\b\b\b\b\b\b\b\b\b\b\b\b\b\b\b\b\b\b\b\b\b\b\b\b\b\b\b\b\b\b\b\b\b\b\b\b\b\b\b\b\b\b\b\b\b\b\b\b\b\b\b\b\b\b\b\b\b\b\b\b\b\b\b\b\b\b\b\b\b\b\b\b\b\b\b\r\u001b[1m937/937\u001b[0m \u001b[32m━━━━━━━━━━━━━━━━━━━━\u001b[0m\u001b[37m\u001b[0m \u001b[1m6s\u001b[0m 6ms/step - accuracy: 0.9844 - loss: 0.0467 - val_accuracy: 0.9885 - val_loss: 0.0352\n",
            "Epoch 3/5\n",
            "\u001b[1m937/937\u001b[0m \u001b[32m━━━━━━━━━━━━━━━━━━━━\u001b[0m\u001b[37m\u001b[0m \u001b[1m202s\u001b[0m 215ms/step - accuracy: 0.9806 - loss: 0.0615 - val_accuracy: 0.9865 - val_loss: 0.0436\n",
            "Epoch 4/5\n",
            "\u001b[1m937/937\u001b[0m \u001b[32m━━━━━━━━━━━━━━━━━━━━\u001b[0m\u001b[37m\u001b[0m \u001b[1m7s\u001b[0m 7ms/step - accuracy: 0.9844 - loss: 0.0301 - val_accuracy: 0.9856 - val_loss: 0.0459\n",
            "Epoch 5/5\n",
            "\u001b[1m937/937\u001b[0m \u001b[32m━━━━━━━━━━━━━━━━━━━━\u001b[0m\u001b[37m\u001b[0m \u001b[1m261s\u001b[0m 221ms/step - accuracy: 0.9860 - loss: 0.0449 - val_accuracy: 0.9931 - val_loss: 0.0235\n"
          ]
        },
        {
          "output_type": "execute_result",
          "data": {
            "text/plain": [
              "<keras.src.callbacks.history.History at 0x7c1de58e6f10>"
            ]
          },
          "metadata": {},
          "execution_count": 12
        }
      ]
    },
    {
      "cell_type": "markdown",
      "source": [
        "#Evaluate the model"
      ],
      "metadata": {
        "id": "k67y6-__N7-v"
      }
    },
    {
      "cell_type": "code",
      "source": [
        "score = model.evaluate(features_test, targets_test, verbose=1)\n",
        "print(f'Test accuracy: {score[1]*100:.2f}%')"
      ],
      "metadata": {
        "colab": {
          "base_uri": "https://localhost:8080/"
        },
        "id": "OmbMkfW5NgLM",
        "outputId": "5d07e262-5340-480b-e8b5-016c5cd6ff1c"
      },
      "execution_count": 14,
      "outputs": [
        {
          "output_type": "stream",
          "name": "stdout",
          "text": [
            "\u001b[1m313/313\u001b[0m \u001b[32m━━━━━━━━━━━━━━━━━━━━\u001b[0m\u001b[37m\u001b[0m \u001b[1m6s\u001b[0m 20ms/step - accuracy: 0.9914 - loss: 0.0272\n",
            "Test accuracy: 99.31%\n"
          ]
        }
      ]
    },
    {
      "cell_type": "markdown",
      "source": [
        "#Predict"
      ],
      "metadata": {
        "id": "1VQtduR1OAuo"
      }
    },
    {
      "cell_type": "code",
      "source": [
        "index = 565\n",
        "image = features_test[565]\n",
        "\n",
        "# Show the image\n",
        "plt.imshow(image.reshape(28, 28), cmap='gray')\n",
        "plt.title(f\"True label: {np.argmax(targets_test[index])}\")\n",
        "plt.axis('off')\n",
        "plt.show()\n",
        "\n",
        "# Model expects input with shape (batch_size, 28, 28, 1)\n",
        "# So we add an extra dimension using np.expand_dims\n",
        "prediction = model.predict(np.expand_dims(image, axis=0))\n",
        "\n",
        "# Get the class with the highest probability\n",
        "predicted_label = np.argmax(prediction)\n",
        "print(f\"Predicted Label: {predicted_label}\")\n",
        "\n",
        "true_label = np.argmax(targets_test[index])\n",
        "print(f\"True Label: {true_label}\")\n"
      ],
      "metadata": {
        "colab": {
          "base_uri": "https://localhost:8080/",
          "height": 482
        },
        "id": "-jFMcjX0OHGc",
        "outputId": "5107f4a7-ebda-4c80-bc6a-95530500017c"
      },
      "execution_count": 19,
      "outputs": [
        {
          "output_type": "display_data",
          "data": {
            "text/plain": [
              "<Figure size 640x480 with 1 Axes>"
            ],
            "image/png": "[encoded data removed]"
          },
          "metadata": {}
        },
        {
          "output_type": "stream",
          "name": "stdout",
          "text": [
            "\u001b[1m1/1\u001b[0m \u001b[32m━━━━━━━━━━━━━━━━━━━━\u001b[0m\u001b[37m\u001b[0m \u001b[1m0s\u001b[0m 58ms/step\n",
            "Predicted Label: 4\n",
            "True Label: 4\n"
          ]
        }
      ]
    }
  ]
}