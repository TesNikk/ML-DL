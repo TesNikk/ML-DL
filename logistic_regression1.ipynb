{
  "nbformat": 4,
  "nbformat_minor": 0,
  "metadata": {
    "colab": {
      "provenance": [],
      "authorship_tag": "ABX9TyNTqb/IYdHrv+qmtpl1XWeG",
      "include_colab_link": true
    },
    "kernelspec": {
      "name": "python3",
      "display_name": "Python 3"
    },
    "language_info": {
      "name": "python"
    }
  },
  "cells": [
    {
      "cell_type": "markdown",
      "metadata": {
        "id": "view-in-github",
        "colab_type": "text"
      },
      "source": [
        "<a href=\"https://colab.research.google.com/github/TesNikk/ML-DL/blob/main/logistic_regression1.ipynb\" target=\"_parent\"><img src=\"https://colab.research.google.com/assets/colab-badge.svg\" alt=\"Open In Colab\"/></a>"
      ]
    },
    {
      "cell_type": "code",
      "execution_count": null,
      "metadata": {
        "colab": {
          "base_uri": "https://localhost:8080/",
          "height": 629
        },
        "id": "axllyFIw0bTr",
        "outputId": "049b1038-bc12-4dab-931f-f2ba7a31401f"
      },
      "outputs": [
        {
          "output_type": "stream",
          "name": "stderr",
          "text": [
            "<ipython-input-5-39bedf269192>:16: UserWarning: color is redundantly defined by the 'color' keyword argument and the fmt string \"ro\" (-> color='r'). The keyword argument will take precedence.\n",
            "  plt.plot(x1,y1,'ro',color='blue')\n",
            "<ipython-input-5-39bedf269192>:17: UserWarning: color is redundantly defined by the 'color' keyword argument and the fmt string \"ro\" (-> color='r'). The keyword argument will take precedence.\n",
            "  plt.plot(x2,y2,'ro',color='red')\n",
            "<ipython-input-5-39bedf269192>:29: UserWarning: color is redundantly defined by the 'color' keyword argument and the fmt string \"ro\" (-> color='r'). The keyword argument will take precedence.\n",
            "  plt.plot(i/10.0-2,logistic(model,i/10.0),'ro',color='green')\n"
          ]
        },
        {
          "output_type": "stream",
          "name": "stdout",
          "text": [
            "b0 is: [-4.50163542]\n",
            "b1 is: [[1.00401882]]\n"
          ]
        },
        {
          "output_type": "display_data",
          "data": {
            "text/plain": [
              "<Figure size 640x480 with 1 Axes>"
            ],
            "image/png": "[encoded data removed]"
          },
          "metadata": {}
        },
        {
          "output_type": "stream",
          "name": "stdout",
          "text": [
            "Prediction:  [0]\n",
            "Prediction Probability:  [[0.97061988 0.02938012]]\n"
          ]
        }
      ],
      "source": [
        "import numpy as np\n",
        "from matplotlib import pyplot as plt\n",
        "from sklearn.linear_model import LogisticRegression\n",
        "\n",
        "# p i = 1 / 1 + exp[ - ( b0 + b1 * x )]\n",
        "\n",
        "x1 = np.array([0,0.6,1.1,1.5,1.8,2.5,3,3.1,3.9,4,4.9,5,5.1])\n",
        "y1 = np.array([0,0,0,0,0,0,0,0,0,0,0,0,0])\n",
        "\n",
        "x2 = np.array([3,3.8,4.4,5.2,5.5,6.5,6,6.1,6.9,7,7.9,8,8.1])\n",
        "y2 = np.array([1,1,1,1,1,1,1,1,1,1,1,1,1])\n",
        "\n",
        "X = np.array([[0],[0.6],[1.1],[1.5],[1.8],[2.5],[3],[3.1],[3.9],[4],[4.9],[5],[5.1],[3],[3.8],[4.4],[5.2],[5.5],[6.5],[6],[6.1],[6.9],[7],[7.9],[8],[8.1]])\n",
        "y = np.array([0,0,0,0,0,0,0,0,0,0,0,0,0,1,1,1,1,1,1,1,1,1,1,1,1,1])\n",
        "\n",
        "plt.plot(x1,y1,'ro',color='blue')\n",
        "plt.plot(x2,y2,'ro',color='red')\n",
        "\n",
        "model = LogisticRegression()\n",
        "model.fit(X,y)\n",
        "\n",
        "print(\"b0 is:\", model.intercept_)\n",
        "print(\"b1 is:\", model.coef_)\n",
        "\n",
        "def logistic(classifier, x):\n",
        "\treturn 1/(1+np.exp(-(model.intercept_ + model.coef_ * x)))\n",
        "\n",
        "for i in range(1,120):\n",
        "\tplt.plot(i/10.0-2,logistic(model,i/10.0),'ro',color='green')\n",
        "\n",
        "plt.axis([-2,10,-0.5,2])\n",
        "plt.show()\n",
        "\n",
        "pred = model.predict([[1]])\n",
        "pred_probability = model.predict_proba([[1]])\n",
        "print(\"Prediction: \", pred)\n",
        "print(\"Prediction Probability: \",pred_probability)\n"
      ]
    }
  ]
}