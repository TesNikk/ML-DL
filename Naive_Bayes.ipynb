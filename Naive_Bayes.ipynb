{
  "nbformat": 4,
  "nbformat_minor": 0,
  "metadata": {
    "colab": {
      "provenance": [],
      "authorship_tag": "ABX9TyPdCQDOoh662LUOsrH0S+OK",
      "include_colab_link": true
    },
    "kernelspec": {
      "name": "python3",
      "display_name": "Python 3"
    },
    "language_info": {
      "name": "python"
    }
  },
  "cells": [
    {
      "cell_type": "markdown",
      "metadata": {
        "id": "view-in-github",
        "colab_type": "text"
      },
      "source": [
        "<a href=\"https://colab.research.google.com/github/TesNikk/ML-DL/blob/main/Naive_Bayes.ipynb\" target=\"_parent\"><img src=\"https://colab.research.google.com/assets/colab-badge.svg\" alt=\"Open In Colab\"/></a>"
      ]
    },
    {
      "cell_type": "code",
      "execution_count": null,
      "metadata": {
        "colab": {
          "base_uri": "https://localhost:8080/",
          "height": 576
        },
        "id": "vpwYY-bqqXfq",
        "outputId": "65416479-3af5-4e30-8197-7ea08ade3622"
      },
      "outputs": [
        {
          "output_type": "stream",
          "name": "stderr",
          "text": [
            "<ipython-input-1-b834822d91f7>:14: UserWarning: color is redundantly defined by the 'color' keyword argument and the fmt string \"ro\" (-> color='r'). The keyword argument will take precedence.\n",
            "  plt.plot(xBlue, yBlue, 'ro', color = 'blue')\n",
            "<ipython-input-1-b834822d91f7>:15: UserWarning: color is redundantly defined by the 'color' keyword argument and the fmt string \"ro\" (-> color='r'). The keyword argument will take precedence.\n",
            "  plt.plot(xRed, yRed, 'ro', color='red')\n",
            "<ipython-input-1-b834822d91f7>:17: UserWarning: color is redundantly defined by the 'color' keyword argument and the fmt string \"ro\" (-> color='r'). The keyword argument will take precedence.\n",
            "  plt.plot(2,2,'ro',color='green', markersize=15)\n"
          ]
        },
        {
          "output_type": "stream",
          "name": "stdout",
          "text": [
            "[0]\n"
          ]
        },
        {
          "output_type": "display_data",
          "data": {
            "text/plain": [
              "<Figure size 640x480 with 1 Axes>"
            ],
            "image/png": "[encoded data removed]"
          },
          "metadata": {}
        }
      ],
      "source": [
        "import numpy as np\n",
        "from matplotlib import pyplot as plt\n",
        "from sklearn.naive_bayes import GaussianNB\n",
        "\n",
        "xBlue = np.array([0.3,0.5,1,1.4,1.7,2])\n",
        "yBlue = np.array([1,4.5,2.3,1.9,8.9,4.1])\n",
        "\n",
        "xRed = np.array([3.3,3.5,4,4.4,5.7,6])\n",
        "yRed = np.array([7,1.5,6.3,1.9,2.9,7.1])\n",
        "\n",
        "X = np.array([[0.3,1],[0.5,4.5],[1,2.3],[1.4,1.9],[1.7,8.9],[2,4.1],[3.3,7],[3.5,1.5],[4,6.3],[4.4,1.9],[5.7,2.9],[6,7.1]])\n",
        "y = np.array([0,0,0,0,0,0,1,1,1,1,1,1]) # 0: blue class, 1: red class\n",
        "\n",
        "plt.plot(xBlue, yBlue, 'ro', color = 'blue')\n",
        "plt.plot(xRed, yRed, 'ro', color='red')\n",
        "\n",
        "plt.plot(2,2,'ro',color='green', markersize=15)\n",
        "\n",
        "plt.axis([-0.5,10,-0.5,10])\n",
        "\n",
        "classifier = GaussianNB()\n",
        "classifier.fit(X,y)\n",
        "\n",
        "pred = classifier.predict([[2,2]])\n",
        "print(pred)\n",
        "\n",
        "plt.show()\n",
        "\n"
      ]
    }
  ]
}