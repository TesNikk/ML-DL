{
  "nbformat": 4,
  "nbformat_minor": 0,
  "metadata": {
    "colab": {
      "provenance": [],
      "authorship_tag": "ABX9TyONAhFFQ8jsFut3vRrDT2M6",
      "include_colab_link": true
    },
    "kernelspec": {
      "name": "python3",
      "display_name": "Python 3"
    },
    "language_info": {
      "name": "python"
    }
  },
  "cells": [
    {
      "cell_type": "markdown",
      "metadata": {
        "id": "view-in-github",
        "colab_type": "text"
      },
      "source": [
        "<a href=\"https://colab.research.google.com/github/TesNikk/ML-DL/blob/main/DT(GIni).ipynb\" target=\"_parent\"><img src=\"https://colab.research.google.com/assets/colab-badge.svg\" alt=\"Open In Colab\"/></a>"
      ]
    },
    {
      "cell_type": "code",
      "execution_count": null,
      "metadata": {
        "colab": {
          "base_uri": "https://localhost:8080/"
        },
        "id": "tsYmpOL_-rHN",
        "outputId": "c166ba8a-97b0-4b96-f9ad-3fcc7d2d3023"
      },
      "outputs": [
        {
          "output_type": "stream",
          "name": "stdout",
          "text": [
            "     SepalLength  SepalWidth  PetalLength  PetalWidth           Class\n",
            "0            5.1         3.5          1.4         0.2     Iris-setosa\n",
            "1            4.9         3.0          1.4         0.2     Iris-setosa\n",
            "2            4.7         3.2          1.3         0.2     Iris-setosa\n",
            "3            4.6         3.1          1.5         0.2     Iris-setosa\n",
            "4            5.0         3.6          1.4         0.2     Iris-setosa\n",
            "..           ...         ...          ...         ...             ...\n",
            "145          6.7         3.0          5.2         2.3  Iris-virginica\n",
            "146          6.3         2.5          5.0         1.9  Iris-virginica\n",
            "147          6.5         3.0          5.2         2.0  Iris-virginica\n",
            "148          6.2         3.4          5.4         2.3  Iris-virginica\n",
            "149          5.9         3.0          5.1         1.8  Iris-virginica\n",
            "\n",
            "[150 rows x 5 columns]\n",
            "[[ 9  0  0]\n",
            " [ 0  5  1]\n",
            " [ 0  2 13]]\n",
            "0.9\n",
            "0.9533333333333334\n"
          ]
        },
        {
          "output_type": "stream",
          "name": "stderr",
          "text": [
            "<ipython-input-4-71fb32809d11>:11: UserWarning: Pandas doesn't allow columns to be created via a new attribute name - see https://pandas.pydata.org/pandas-docs/stable/indexing.html#attribute-access\n",
            "  data.features = data[[\"SepalLength\",\"SepalWidth\",\"PetalLength\",\"PetalWidth\"]]\n",
            "<ipython-input-4-71fb32809d11>:12: UserWarning: Pandas doesn't allow columns to be created via a new attribute name - see https://pandas.pydata.org/pandas-docs/stable/indexing.html#attribute-access\n",
            "  data.targets = data.Class\n"
          ]
        }
      ],
      "source": [
        "import pandas as pd\n",
        "from sklearn.tree import DecisionTreeClassifier\n",
        "from sklearn.model_selection import train_test_split\n",
        "from sklearn.metrics import confusion_matrix\n",
        "from sklearn.metrics import accuracy_score\n",
        "from sklearn.model_selection import cross_val_predict\n",
        "\n",
        "data = pd.read_csv(\"iris_data.csv\")\n",
        "\n",
        "print(data)\n",
        "data.features = data[[\"SepalLength\",\"SepalWidth\",\"PetalLength\",\"PetalWidth\"]]\n",
        "data.targets = data.Class\n",
        "\n",
        "feature_train, feature_test, target_train, target_test = train_test_split(data.features, data.targets, test_size=.2)\n",
        "\n",
        "model = DecisionTreeClassifier(criterion='gini')\n",
        "model.fitted = model.fit(feature_train, target_train)\n",
        "model.predictions = model.fitted.predict(feature_test)\n",
        "\n",
        "print(confusion_matrix(target_test, model.predictions))\n",
        "print(accuracy_score(target_test, model.predictions))\n",
        "\n",
        "predicted = cross_val_predict(model,data.features,data.targets, cv=10)\n",
        "print(accuracy_score(data.targets,predicted))"
      ]
    }
  ]
}