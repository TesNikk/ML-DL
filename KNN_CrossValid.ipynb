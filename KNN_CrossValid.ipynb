{
  "nbformat": 4,
  "nbformat_minor": 0,
  "metadata": {
    "colab": {
      "provenance": [],
      "authorship_tag": "ABX9TyOgL1r1NI07p4RtPceYSZiS",
      "include_colab_link": true
    },
    "kernelspec": {
      "name": "python3",
      "display_name": "Python 3"
    },
    "language_info": {
      "name": "python"
    }
  },
  "cells": [
    {
      "cell_type": "markdown",
      "metadata": {
        "id": "view-in-github",
        "colab_type": "text"
      },
      "source": [
        "<a href=\"https://colab.research.google.com/github/TesNikk/ML-DL/blob/main/KNN_CrossValid.ipynb\" target=\"_parent\"><img src=\"https://colab.research.google.com/assets/colab-badge.svg\" alt=\"Open In Colab\"/></a>"
      ]
    },
    {
      "cell_type": "code",
      "execution_count": null,
      "metadata": {
        "colab": {
          "base_uri": "https://localhost:8080/"
        },
        "id": "VyD-YMKwQtg_",
        "outputId": "8e172ec9-8dd4-4e90-dcb6-636f89a08541"
      },
      "outputs": [
        {
          "output_type": "stream",
          "name": "stdout",
          "text": [
            "          clientid    income       age      loan       LTI   default\n",
            "clientid  1.000000  0.039280 -0.030341  0.018931  0.002538 -0.020145\n",
            "income    0.039280  1.000000 -0.034984  0.441117 -0.019862  0.002284\n",
            "age      -0.030341 -0.034984  1.000000  0.006561  0.021588 -0.444765\n",
            "loan      0.018931  0.441117  0.006561  1.000000  0.847495  0.377160\n",
            "LTI       0.002538 -0.019862  0.021588  0.847495  1.000000  0.433261\n",
            "default  -0.020145  0.002284 -0.444765  0.377160  0.433261  1.000000\n"
          ]
        },
        {
          "output_type": "stream",
          "name": "stderr",
          "text": [
            "<ipython-input-2-1939a170a7f1>:20: UserWarning: Pandas doesn't allow columns to be created via a new attribute name - see https://pandas.pydata.org/pandas-docs/stable/indexing.html#attribute-access\n",
            "  data.features = data[[\"income\",\"age\",\"loan\"]]\n",
            "<ipython-input-2-1939a170a7f1>:21: UserWarning: Pandas doesn't allow columns to be created via a new attribute name - see https://pandas.pydata.org/pandas-docs/stable/indexing.html#attribute-access\n",
            "  data.target = data.default\n"
          ]
        },
        {
          "output_type": "stream",
          "name": "stdout",
          "text": [
            "Optimal k with cross-validation:  32\n",
            "[[515   4]\n",
            " [ 11  70]]\n",
            "0.975\n"
          ]
        }
      ],
      "source": [
        "import pandas as pd\n",
        "import numpy as np\n",
        "from sklearn.neighbors import KNeighborsClassifier\n",
        "from sklearn.model_selection import train_test_split\n",
        "from sklearn.metrics import confusion_matrix\n",
        "from sklearn.metrics import accuracy_score\n",
        "from sklearn import preprocessing\n",
        "from sklearn.model_selection import cross_val_score\n",
        "\n",
        "data = pd.read_csv(\"credit_data.csv\")\n",
        "\n",
        "# Logistic regression accuracy: 93%\n",
        "# we do better with knn: 98.5% !!!!!!!!\n",
        "# 84%\n",
        "\n",
        "#print(creditData.head())\n",
        "#print(creditData.describe())\n",
        "print(data.corr())\n",
        "\n",
        "data.features = data[[\"income\",\"age\",\"loan\"]]\n",
        "data.target = data.default\n",
        "\n",
        "data.features = preprocessing.MinMaxScaler().fit_transform(data.features) #HUGE DIFFERENCE !!!\n",
        "\n",
        "feature_train, feature_test, target_train, target_test = train_test_split(data.features,data.target, test_size=0.3)\n",
        "\n",
        "model = KNeighborsClassifier(n_neighbors=28)  # k value !!!\n",
        "fittedModel = model.fit(feature_train, target_train)\n",
        "predictions = fittedModel.predict(feature_test)\n",
        "\n",
        "cross_valid_scores = []\n",
        "\n",
        "for k in range(1,100):\n",
        "    knn = KNeighborsClassifier(n_neighbors=k)\n",
        "    scores = cross_val_score(knn,data.features,data.target,cv=10,scoring='accuracy')\n",
        "    cross_valid_scores.append(scores.mean())\n",
        "\n",
        "\n",
        "print(\"Optimal k with cross-validation: \", np.argmax(cross_valid_scores))\n",
        "\n",
        "print(confusion_matrix(target_test, predictions))\n",
        "print(accuracy_score(target_test,predictions))"
      ]
    }
  ]
}